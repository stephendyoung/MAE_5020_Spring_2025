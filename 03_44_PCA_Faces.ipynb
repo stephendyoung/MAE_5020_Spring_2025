{
  "cells": [
    {
      "cell_type": "markdown",
      "metadata": {
        "colab_type": "text",
        "id": "view-in-github"
      },
      "source": [
        "<a href=\"https://colab.research.google.com/github/kursatkara/MAE_5020_Spring_2025/blob/master/03_44_PCA_Faces.ipynb\" target=\"_parent\"><img src=\"https://colab.research.google.com/assets/colab-badge.svg\" alt=\"Open In Colab\"/></a>"
      ]
    },
    {
      "cell_type": "markdown",
      "metadata": {
        "id": "1MVifz8o4SHT"
      },
      "source": [
        "**PCA EigenFaces - Part 1**\n",
        "\n",
        "The code from the textbook [1] was modified to run on Google Colab.\n",
        "\n",
        "[1] https://github.com/dynamicslab/databook_python/blob/master/CH01/CH01_SEC06_1.ipynb\n"
      ]
    },
    {
      "cell_type": "code",
      "execution_count": null,
      "metadata": {
        "id": "MJvJvHf_pzU6"
      },
      "outputs": [],
      "source": [
        "# Download the data file allFaces.mat into sample_data folder.\n",
        "\n",
        "import os\n",
        "import subprocess  # For executing the wget command\n",
        "\n",
        "# Define the path to the folder and the filename\n",
        "folder_path = 'sample_data'\n",
        "filename = 'allFaces.mat'\n",
        "file_path = os.path.join(folder_path, filename)\n",
        "\n",
        "# Check if the folder exists, if not, create it\n",
        "if not os.path.exists(folder_path):\n",
        "    os.makedirs(folder_path)\n",
        "\n",
        "# Check if the file exists in the specified folder\n",
        "if not os.path.exists(file_path):\n",
        "    # If the file doesn't exist, download it into the folder\n",
        "    download_command = f\"wget -P {folder_path} https://github.com/kursatkara/databook_python/raw/master/DATA/allFaces.mat\"\n",
        "    subprocess.run(download_command, shell=True, check=True)\n",
        "else:\n",
        "    print(f\"{filename} file already exists in the {folder_path} folder.\")\n"
      ]
    },
    {
      "cell_type": "code",
      "execution_count": null,
      "metadata": {
        "id": "XkG0sS5D5Ylt"
      },
      "outputs": [],
      "source": [
        "# Loat the data file allFaces.mat to mat_contents.\n",
        "import scipy.io\n",
        "\n",
        "# Load the mat file from the specified folder\n",
        "mat_contents = scipy.io.loadmat(file_path)\n"
      ]
    },
    {
      "cell_type": "code",
      "execution_count": null,
      "metadata": {
        "colab": {
          "base_uri": "https://localhost:8080/",
          "height": 807
        },
        "id": "yYVjdEzYek2P",
        "outputId": "1b9ca4c9-d39c-4456-f387-879d40e0995a"
      },
      "outputs": [],
      "source": [
        "import matplotlib.pyplot as plt\n",
        "import numpy as np\n",
        "\n",
        "plt.rcParams['figure.figsize'] = [10, 10]\n",
        "plt.rcParams.update({'font.size': 18})\n",
        "\n",
        "# Extract the necessary data\n",
        "faces       = mat_contents['faces']\n",
        "m           = int(np.squeeze(mat_contents['m']))\n",
        "n           = int(np.squeeze(mat_contents['n']))\n",
        "\n",
        "nfaces     = np.ndarray.flatten(mat_contents['nfaces'])\n",
        "allPersons = np.zeros((n*6,m*6))\n",
        "count      = 0\n",
        "\n",
        "for j in range(6):\n",
        "    for k in range(6):\n",
        "        allPersons[j*n : (j+1)*n, k*m : (k+1)*m] = np.reshape(faces[:,np.sum(nfaces[:count])],(m,n)).T\n",
        "        count += 1\n",
        "\n",
        "img = plt.imshow(allPersons)\n",
        "img.set_cmap('gray')\n",
        "plt.axis('off')\n",
        "plt.show()"
      ]
    },
    {
      "cell_type": "code",
      "execution_count": null,
      "metadata": {
        "colab": {
          "base_uri": "https://localhost:8080/",
          "height": 1000
        },
        "id": "wv0hABmj5zMy",
        "outputId": "31e94bcb-e6f8-4af3-ce79-cf4bb029eaad"
      },
      "outputs": [],
      "source": [
        "for person in range(len(nfaces)):\n",
        "    subset = faces[:,sum(nfaces[:person]) : sum(nfaces[:(person+1)])]\n",
        "    allFaces = np.zeros((n*8,m*8))\n",
        "\n",
        "    count = 0\n",
        "\n",
        "    for j in range(8):\n",
        "        for k in range(8):\n",
        "            if count < nfaces[person]:\n",
        "                allFaces[j*n:(j+1)*n,k*m:(k+1)*m] = np.reshape(subset[:,count],(m,n)).T\n",
        "                count += 1\n",
        "\n",
        "    img = plt.imshow(allFaces)\n",
        "    img.set_cmap('gray')\n",
        "    plt.axis('off')\n",
        "    plt.show()"
      ]
    },
    {
      "cell_type": "code",
      "execution_count": null,
      "metadata": {
        "id": "DfKkPaErzJdf"
      },
      "outputs": [],
      "source": []
    }
  ],
  "metadata": {
    "colab": {
      "authorship_tag": "ABX9TyO6iLWE/D/378qA2hXJStaX",
      "include_colab_link": true,
      "provenance": []
    },
    "kernelspec": {
      "display_name": "Python 3",
      "name": "python3"
    },
    "language_info": {
      "name": "python"
    }
  },
  "nbformat": 4,
  "nbformat_minor": 0
}
