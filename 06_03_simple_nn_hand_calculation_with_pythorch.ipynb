{
  "cells": [
    {
      "cell_type": "markdown",
      "metadata": {
        "id": "view-in-github",
        "colab_type": "text"
      },
      "source": [
        "<a href=\"https://colab.research.google.com/github/kursatkara/MAE_5020_Spring_2025/blob/master/06_03_simple_nn_hand_calculation_with_pythorch.ipynb\" target=\"_parent\"><img src=\"https://colab.research.google.com/assets/colab-badge.svg\" alt=\"Open In Colab\"/></a>"
      ]
    },
    {
      "cell_type": "markdown",
      "source": [
        "# Neural Network from Scratch in PyTorch  \n",
        "### Architecture: 2 Input → 3 Hidden → 2 Output Neurons"
      ],
      "metadata": {
        "id": "qvAudUKc8GXr"
      },
      "id": "qvAudUKc8GXr"
    },
    {
      "cell_type": "code",
      "source": [
        "import torch\n",
        "\n",
        "# Set seed for reproducibility\n",
        "torch.manual_seed(42)\n",
        "\n",
        "# Hyperparameters\n",
        "input_size = 2\n",
        "hidden_size = 3\n",
        "output_size = 2\n",
        "lr = 0.3\n",
        "epochs = 50\n",
        "\n",
        "# Sample training data (1 sample)\n",
        "x = torch.tensor([[0.5, 0.8]], dtype=torch.float32)\n",
        "y_true = torch.tensor([[1.0, 0.0]], dtype=torch.float32)\n",
        "\n",
        "# Initialize weights and biases\n",
        "W1 = torch.randn((input_size, hidden_size), requires_grad=True)\n",
        "b1 = torch.randn((1, hidden_size), requires_grad=True)\n",
        "W2 = torch.randn((hidden_size, output_size), requires_grad=True)\n",
        "b2 = torch.randn((1, output_size), requires_grad=True)\n",
        "\n",
        "# Training loop\n",
        "loss_history = []\n",
        "for epoch in range(epochs):\n",
        "    # Forward pass\n",
        "    z1 = x @ W1 + b1\n",
        "    a1 = torch.sigmoid(z1)\n",
        "    z2 = a1 @ W2 + b2\n",
        "    y_pred = torch.sigmoid(z2)\n",
        "\n",
        "    # Mean squared error loss\n",
        "    loss = torch.mean((y_true - y_pred) ** 2)\n",
        "    loss_history.append(loss.item())\n",
        "\n",
        "    # Backward pass\n",
        "    loss.backward()\n",
        "\n",
        "    # Gradient descent step\n",
        "    with torch.no_grad():\n",
        "        W1 -= lr * W1.grad\n",
        "        b1 -= lr * b1.grad\n",
        "        W2 -= lr * W2.grad\n",
        "        b2 -= lr * b2.grad\n",
        "\n",
        "        # Zero the gradients\n",
        "        W1.grad.zero_()\n",
        "        b1.grad.zero_()\n",
        "        W2.grad.zero_()\n",
        "        b2.grad.zero_()\n",
        "\n",
        "    # Print loss every 10 epochs\n",
        "    if epoch % 10 == 0:\n",
        "        print(f\"Epoch {epoch}: Loss = {loss.item():.4f}\")\n",
        "\n",
        "# Final prediction\n",
        "print(\"\\nFinal prediction:\", y_pred.detach().numpy())\n",
        "\n",
        "\n",
        "# Print gradients for verification\n",
        "print(\"Gradients:\")\n",
        "print(\"dL/dW2:\\n\", W2.grad)\n",
        "print(\"dL/db2:\\n\", b2.grad)\n",
        "print(\"dL/dW1:\\n\", W1.grad)\n",
        "print(\"dL/db1:\\n\", b1.grad)\n",
        "\n",
        "# Print weights\n",
        "print(\"Weights\")\n",
        "print(\"W2:\\n\", W2)\n",
        "print(\"b2:\\n\", b2)\n",
        "print(\"W1:\\n\", W1)\n",
        "print(\"b1:\\n\", b1)\n",
        "\n",
        "# Final prediction\n",
        "print(\"\\nFinal prediction:\", y_pred.detach().numpy())\n",
        "\n",
        "# Plot loss history\n",
        "import matplotlib.pyplot as plt\n",
        "plt.plot(loss_history)\n",
        "plt.xlabel(\"Epoch\")\n",
        "plt.ylabel(\"Loss\")\n",
        "plt.title(\"Loss History\")\n",
        "plt.show()\n",
        "\n"
      ],
      "metadata": {
        "colab": {
          "base_uri": "https://localhost:8080/",
          "height": 1000
        },
        "id": "MRN4YfikOcoa",
        "outputId": "aba29085-468b-405f-e6b0-bbedefd9cb79"
      },
      "id": "MRN4YfikOcoa",
      "execution_count": 8,
      "outputs": [
        {
          "output_type": "stream",
          "name": "stdout",
          "text": [
            "Epoch 0: Loss = 0.4122\n",
            "Epoch 10: Loss = 0.2309\n",
            "Epoch 20: Loss = 0.1044\n",
            "Epoch 30: Loss = 0.0566\n",
            "Epoch 40: Loss = 0.0370\n",
            "\n",
            "Final prediction: [[0.8473261 0.1792947]]\n",
            "Gradients:\n",
            "dL/dW2:\n",
            " tensor([[0., 0.],\n",
            "        [0., 0.],\n",
            "        [0., 0.]])\n",
            "dL/db2:\n",
            " tensor([[0., 0.]])\n",
            "dL/dW1:\n",
            " tensor([[0., 0., 0.],\n",
            "        [0., 0., 0.]])\n",
            "dL/db1:\n",
            " tensor([[0., 0., 0.]])\n",
            "Weights\n",
            "W2:\n",
            " tensor([[ 0.8807, -0.6151],\n",
            "        [ 0.9233,  0.8968],\n",
            "        [-1.2729, -1.7694]], requires_grad=True)\n",
            "b2:\n",
            " tensor([[1.6184, 0.0837]], requires_grad=True)\n",
            "W1:\n",
            " tensor([[ 0.3499,  0.0808,  0.3150],\n",
            "        [ 0.2515, -1.1997, -0.0575]], requires_grad=True)\n",
            "b1:\n",
            " tensor([[ 2.2346, -0.7341,  0.6227]], requires_grad=True)\n",
            "\n",
            "Final prediction: [[0.8473261 0.1792947]]\n"
          ]
        },
        {
          "output_type": "display_data",
          "data": {
            "text/plain": [
              "<Figure size 640x480 with 1 Axes>"
            ],
            "image/png": "[encoded data removed]"
          },
          "metadata": {}
        }
      ]
    },
    {
      "cell_type": "code",
      "source": [],
      "metadata": {
        "id": "QB8Ew-0T9Jem"
      },
      "id": "QB8Ew-0T9Jem",
      "execution_count": null,
      "outputs": []
    }
  ],
  "metadata": {
    "colab": {
      "provenance": [],
      "include_colab_link": true
    },
    "language_info": {
      "name": "python"
    },
    "kernelspec": {
      "name": "python3",
      "display_name": "Python 3"
    }
  },
  "nbformat": 4,
  "nbformat_minor": 5
}